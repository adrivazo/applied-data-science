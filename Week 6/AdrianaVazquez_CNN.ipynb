{
  "cells": [
    {
      "cell_type": "markdown",
      "metadata": {
        "id": "Q91KqmCRu64D"
      },
      "source": [
        "# **Project - Convolutional Neural Networks: Street View Housing Number Digit Recognition**\n",
        "\n",
        "# Marks: 30\n",
        "\n",
        "Welcome to the project on classification using Convolutional Neural Networks. We will continue to work with the Street View Housing Numbers (SVHN) image dataset for this project.\n",
        "\n",
        "--------------\n",
        "### **Context:** \n",
        "--------------\n",
        "\n",
        "One of the most interesting tasks in deep learning is to recognize objects in natural scenes. The ability to process visual information using machine learning algorithms can be very useful as demonstrated in various applications.\n",
        "\n",
        "The SVHN dataset contains over 600,000 labeled digits cropped from street-level photos. It is one of the most popular image recognition datasets. It has been used in neural networks created by Google to improve map quality by automatically transcribing the address numbers from a patch of pixels. The transcribed number with a known street address helps pinpoint the location of the building it represents. \n",
        "\n",
        "----------------\n",
        "### **Objective:**\n",
        "----------------\n",
        "\n",
        "Build a CNN model that can identify the digits in the images.\n",
        "\n",
        "-------------\n",
        "### **Dataset**\n",
        "-------------\n",
        "Here, we will use a subset of the original data to save some computation time. The dataset is provided as a .h5 file. The basic preprocessing steps have been done."
      ]
    },
    {
      "cell_type": "markdown",
      "metadata": {
        "id": "8z2Z7-OAs8QG"
      },
      "source": [
        "## **Mount the drive**\n",
        "Let us start by mounting the drive and importing the necessary libraries."
      ]
    },
    {
      "cell_type": "code",
      "execution_count": 2,
      "metadata": {
        "colab": {
          "base_uri": "https://localhost:8080/"
        },
        "id": "03lDyQUuef7z",
        "outputId": "1caf13df-3447-4100-b3e0-fa0713cd1154"
      },
      "outputs": [
        {
          "output_type": "stream",
          "name": "stdout",
          "text": [
            "Mounted at /content/drive\n"
          ]
        }
      ],
      "source": [
        "from google.colab import drive\n",
        "drive.mount('/content/drive')"
      ]
    },
    {
      "cell_type": "markdown",
      "metadata": {
        "id": "C8U3DUa3eNsT"
      },
      "source": [
        "## **Importing libraries**"
      ]
    },
    {
      "cell_type": "code",
      "execution_count": 3,
      "metadata": {
        "id": "-dVzeuF3eQx1"
      },
      "outputs": [],
      "source": [
        "import numpy as np\n",
        "import pandas as pd\n",
        "import matplotlib.pyplot as plt\n",
        "import seaborn as sns\n",
        "\n",
        "from sklearn.model_selection import train_test_split\n",
        "from sklearn.preprocessing import MinMaxScaler\n",
        "\n",
        "import tensorflow as tf\n",
        "from tensorflow.keras.models import Sequential\n",
        "from tensorflow.keras.layers import Dense, Conv2D, MaxPool2D, BatchNormalization, Dropout, Flatten, LeakyReLU\n",
        "from tensorflow.keras.utils import to_categorical"
      ]
    },
    {
      "cell_type": "markdown",
      "metadata": {
        "id": "ucnevGLoyKf_"
      },
      "source": [
        "Let us check for the version of TensorFlow."
      ]
    },
    {
      "cell_type": "code",
      "execution_count": 4,
      "metadata": {
        "colab": {
          "base_uri": "https://localhost:8080/"
        },
        "id": "W5as47YxyJVk",
        "outputId": "a5deed76-eb13-4e72-e5b9-05ca2e094a67"
      },
      "outputs": [
        {
          "output_type": "stream",
          "name": "stdout",
          "text": [
            "2.8.0\n"
          ]
        }
      ],
      "source": [
        "print(tf.__version__)"
      ]
    },
    {
      "cell_type": "markdown",
      "metadata": {
        "id": "8lsux2ZwyTTR"
      },
      "source": [
        "## **Load the dataset**\n",
        "- Let us now load the dataset that is available as a .h5 file.\n",
        "- Split the data into train and the test dataset"
      ]
    },
    {
      "cell_type": "code",
      "execution_count": 66,
      "metadata": {
        "id": "BApX9qgNsqV0",
        "scrolled": true
      },
      "outputs": [],
      "source": [
        "import h5py\n",
        "\n",
        "# Open the file as read only\n",
        "# User can make changes in the path as required\n",
        "h5f = h5py.File('/content/drive/MyDrive/ColabNotebooks/SVHN_single_grey1.h5', 'r')\n",
        "\n",
        "# Load the training and the test set\n",
        "X_train = h5f['X_train'][:]\n",
        "y_train = h5f['y_train'][:]\n",
        "X_test = h5f['X_test'][:]\n",
        "y_test = h5f['y_test'][:]\n",
        "\n",
        "\n",
        "# Close this file\n",
        "h5f.close()"
      ]
    },
    {
      "cell_type": "markdown",
      "metadata": {
        "id": "hVe0CYpUgj7w"
      },
      "source": [
        "Let's check the number of images in the training and testing data."
      ]
    },
    {
      "cell_type": "code",
      "execution_count": 6,
      "metadata": {
        "colab": {
          "base_uri": "https://localhost:8080/"
        },
        "id": "y3lwKpOefkpA",
        "outputId": "156a3f05-63ec-439f-9dc2-a2cde856b14c"
      },
      "outputs": [
        {
          "output_type": "execute_result",
          "data": {
            "text/plain": [
              "(42000, 18000)"
            ]
          },
          "metadata": {},
          "execution_count": 6
        }
      ],
      "source": [
        "len(X_train), len(X_test)"
      ]
    },
    {
      "cell_type": "markdown",
      "metadata": {
        "id": "akTUOfLlgwoM"
      },
      "source": [
        "**Observations**\n",
        "- There are 42,000 images in the training data and 18,000 images in the testing data. "
      ]
    },
    {
      "cell_type": "markdown",
      "metadata": {
        "id": "kxODV6HKykuc"
      },
      "source": [
        "## **Visualizing images**\n",
        "- Use X_train to visualize the first 10 images\n",
        "- Use Y_train to print the first 10 labels"
      ]
    },
    {
      "cell_type": "markdown",
      "metadata": {
        "id": "Rn5IZYv-e2TC"
      },
      "source": [
        "#### **Question 1: Complete the below code to visualize the first 10 images from the training data (1 Mark)**"
      ]
    },
    {
      "cell_type": "code",
      "execution_count": 7,
      "metadata": {
        "colab": {
          "base_uri": "https://localhost:8080/",
          "height": 96
        },
        "id": "Bvsc8ytHsqWD",
        "outputId": "24fd7758-b5f8-4658-9714-2df71f2b49cf"
      },
      "outputs": [
        {
          "output_type": "display_data",
          "data": {
            "image/png": "[encoded data removed]",
            "text/plain": [
              "<Figure size 720x72 with 10 Axes>"
            ]
          },
          "metadata": {
            "needs_background": "light"
          }
        },
        {
          "output_type": "stream",
          "name": "stdout",
          "text": [
            "label for each of the above image: [2 6 7 4 4 0 3 0 7 3]\n"
          ]
        }
      ],
      "source": [
        "# visualizing the first 10 images in the dataset and their labels\n",
        "plt.figure(figsize=(10, 1))\n",
        "\n",
        "for i in range(10):\n",
        "    plt.subplot(1, 10, i+1)\n",
        "    plt.imshow(X_train[i], cmap=\"Blues\") # write the function to visualize images\n",
        "    plt.axis('off')\n",
        "\n",
        "plt.show()\n",
        "print('label for each of the above image: %s' % (y_train[0:10]))"
      ]
    },
    {
      "cell_type": "markdown",
      "metadata": {
        "id": "kzoyeXHOy80N"
      },
      "source": [
        "## **Data Preparation**\n",
        "\n",
        "- Print the first image in the train image and figure out the shape of the images\n",
        "- Reshape the train and the test dataset to make them fit the first convolutional operation that we will create later. Figure out the required shape\n",
        "- Normalize the train and the test dataset by dividing by 255\n",
        "- Print the new shapes of the train and the test set\n",
        "- One-hot encode the target variable"
      ]
    },
    {
      "cell_type": "code",
      "execution_count": 8,
      "metadata": {
        "colab": {
          "base_uri": "https://localhost:8080/"
        },
        "id": "NqndzQXng9rL",
        "outputId": "c5cbc75a-2141-460d-bd1b-22f4c761534b"
      },
      "outputs": [
        {
          "output_type": "stream",
          "name": "stdout",
          "text": [
            "Shape: (32, 32)\n",
            "\n",
            "First image:\n",
            " [[ 33.0704  30.2601  26.852  ...  71.4471  58.2204  42.9939]\n",
            " [ 25.2283  25.5533  29.9765 ... 113.0209 103.3639  84.2949]\n",
            " [ 26.2775  22.6137  40.4763 ... 113.3028 121.775  115.4228]\n",
            " ...\n",
            " [ 28.5502  36.212   45.0801 ...  24.1359  25.0927  26.0603]\n",
            " [ 38.4352  26.4733  23.2717 ...  28.1094  29.4683  30.0661]\n",
            " [ 50.2984  26.0773  24.0389 ...  49.6682  50.853   53.0377]]\n"
          ]
        }
      ],
      "source": [
        "# Shape of the images and the first image\n",
        "\n",
        "print(\"Shape:\", X_train[0].shape)\n",
        "print()\n",
        "print(\"First image:\\n\", X_train[0])"
      ]
    },
    {
      "cell_type": "code",
      "execution_count": 9,
      "metadata": {
        "id": "D9YPwf9ysqWU"
      },
      "outputs": [],
      "source": [
        "# Reshaping the dataset to flatten them. Remember that we always have to give a 4D array as input to CNNs\n",
        "\n",
        "X_train = X_train.reshape(X_train.shape[0], 32,32,1)\n",
        "X_test = X_test.reshape(X_test.shape[0], 32,32,1)"
      ]
    },
    {
      "cell_type": "code",
      "execution_count": 10,
      "metadata": {
        "id": "q_yUUTp_mUzB"
      },
      "outputs": [],
      "source": [
        "# Normalize inputs from 0-255 to 0-1\n",
        "\n",
        "X_train = X_train / 255.0\n",
        "X_test = X_test / 255.0"
      ]
    },
    {
      "cell_type": "code",
      "execution_count": 11,
      "metadata": {
        "colab": {
          "base_uri": "https://localhost:8080/"
        },
        "id": "t7FSqOpamWkH",
        "outputId": "2dfc3346-a0d0-4c6a-fc65-7ecdac66a6e7"
      },
      "outputs": [
        {
          "output_type": "stream",
          "name": "stdout",
          "text": [
            "Training set: (42000, 32, 32, 1) (42000,)\n",
            "Test set: (18000, 32, 32, 1) (18000,)\n"
          ]
        }
      ],
      "source": [
        "# New shape \n",
        "\n",
        "print('Training set:', X_train.shape, y_train.shape)\n",
        "print('Test set:', X_test.shape, y_test.shape)"
      ]
    },
    {
      "cell_type": "markdown",
      "metadata": {
        "id": "YP92jacue2TE"
      },
      "source": [
        "#### **Question 2: One-hot encode the labels in the target variable y_train and y_test (2 Marks)**"
      ]
    },
    {
      "cell_type": "code",
      "execution_count": 12,
      "metadata": {
        "colab": {
          "base_uri": "https://localhost:8080/"
        },
        "id": "zL0lYER4sqWw",
        "outputId": "832e1ce3-9081-4a3e-bfda-6f985ff72754"
      },
      "outputs": [
        {
          "output_type": "execute_result",
          "data": {
            "text/plain": [
              "array([[0., 1., 0., ..., 0., 0., 0.],\n",
              "       [0., 0., 0., ..., 1., 0., 0.],\n",
              "       [0., 0., 1., ..., 0., 0., 0.],\n",
              "       ...,\n",
              "       [0., 0., 0., ..., 1., 0., 0.],\n",
              "       [0., 0., 0., ..., 0., 0., 1.],\n",
              "       [0., 0., 1., ..., 0., 0., 0.]], dtype=float32)"
            ]
          },
          "metadata": {},
          "execution_count": 12
        }
      ],
      "source": [
        "#Write the function and appropriate variable name to one-hot encode the output\n",
        "\n",
        "y_train = to_categorical(y_train)\n",
        "y_test = to_categorical(y_test)\n",
        "\n",
        "#test labels\n",
        "y_test"
      ]
    },
    {
      "cell_type": "markdown",
      "metadata": {
        "id": "ViqPOTquCF76"
      },
      "source": [
        "- Notice that each entry of y_test is a one-hot encoded vector instead of a single label."
      ]
    },
    {
      "cell_type": "markdown",
      "metadata": {
        "id": "yH-gVrzuByNA"
      },
      "source": [
        "## **Model Building**\n",
        "\n",
        "Now, we have done data preprocessing, let's build a CNN model."
      ]
    },
    {
      "cell_type": "code",
      "execution_count": 13,
      "metadata": {
        "id": "eaGr-3Noe2TF"
      },
      "outputs": [],
      "source": [
        "#Fixing the seed for random number generators\n",
        "np.random.seed(42)\n",
        "import random\n",
        "random.seed(42)\n",
        "tf.random.set_seed(42)"
      ]
    },
    {
      "cell_type": "markdown",
      "metadata": {
        "id": "UJDUoaEj1d6e"
      },
      "source": [
        "### **Model Architecture**\n",
        "- Write a function that returns a sequential model with the following architecture\n",
        " - First Convolutional layer with **16 filters and kernel size of 3x3**. Use the **'same' padding** and provide an **apt input shape**\n",
        " - Add a **LeakyRelu layer** with the **slope equal to 0.1**\n",
        " - Second Convolutional layer with **32 filters and kernel size of 3x3 with 'same' padding**\n",
        " - Another **LeakyRelu** with the **slope equal to 0.1**\n",
        " - A **max-pooling layer** with a **pool size of 2x2**\n",
        " - **Flatten** the output from the previous layer\n",
        " - Add a **dense layer with 32 nodes**\n",
        " - Add a **LeakyRelu layer with slope equal to 0.1**\n",
        " - Add the final **output layer with nodes equal to the number of classes** and **softmax activation**\n",
        " - Compile the model with the **categorical_crossentropy loss, adam optimizers (learning_rate = 0.001), and accuracy metric**. Do not fit the model here, just return the compiled model\n",
        "- Call the function and store the model in a new variable\n",
        "- Print the summary of the model.\n",
        "- Fit the model on the train data with a **validation split of 0.2, batch size = 32, verbose = 1, and 20 epochs**. Store the model building history to use later for visualization."
      ]
    },
    {
      "cell_type": "markdown",
      "metadata": {
        "id": "Uw8pZcNwe2TG"
      },
      "source": [
        "#### **Question 3: Build and train a CNN model as per the above mentioned architecture (10 Marks)**"
      ]
    },
    {
      "cell_type": "code",
      "execution_count": 14,
      "metadata": {
        "id": "Cmi81Gr5sqW-"
      },
      "outputs": [],
      "source": [
        "#Importing losses and optimizers modules\n",
        "from tensorflow.keras import losses\n",
        "from tensorflow.keras import optimizers\n",
        "\n",
        "#Define the function\n",
        "def cnn_model_1():\n",
        "    model = Sequential() \n",
        "    #Add layers as per the architecture mentioned above in the same sequence\n",
        "\n",
        "    #First Convolutional layer with 16 filters and kernel size of 3x3. Use the 'same' padding and provide an apt input shape\n",
        "    model.add(Conv2D(filters=16, kernel_size=(3,3), padding='same', input_shape=(32,32,1)))\n",
        "    #model.add(Conv2D(filters=16, kernel_size=(3, 3), activation='relu', padding='same', data_format='channels_last', input_shape=(28,28,1)))\n",
        "\n",
        "    #Add a LeakyRelu layer with the slope equal to 0.1\n",
        "    model.add(LeakyReLU(alpha=0.1))\n",
        "\n",
        "    #Second Convolutional layer with 32 filters and kernel size of 3x3 with 'same' padding\n",
        "    model.add(Conv2D(filters=32, kernel_size=(3,3), padding='same'))\n",
        "    \n",
        "    #Another LeakyRelu with the slope equal to 0.1\n",
        "    model.add(LeakyReLU(alpha=0.1))\n",
        "\n",
        "    #A max-pooling layer with a pool size of 2x2\n",
        "    model.add(MaxPool2D(pool_size=(2,2)))\n",
        "\n",
        "    #Flatten the output from the previous layer\n",
        "    model.add(Flatten())\n",
        "\n",
        "    #Add a dense layer with 32 nodes\n",
        "    model.add(Dense(32))\n",
        "\n",
        "    #Add a LeakyRelu layer with slope equal to 0.1\n",
        "    model.add(LeakyReLU(alpha=0.1))\n",
        "\n",
        "    #Add the final output layer with nodes equal to the number of classes and softmax activation\n",
        "    model.add(Dense(10, activation='softmax'))\n",
        "\n",
        "    #declare adam optimizer with learning rate of 0.001 \n",
        "    adam = optimizers.Adam(learning_rate=0.001)\n",
        "\n",
        "    ##Compile the model with the categorical_crossentropy loss, \n",
        "    model.compile(loss = 'categorical_crossentropy', optimizer = adam, metrics = ['accuracy'])\n",
        "    \n",
        "    return model"
      ]
    },
    {
      "cell_type": "code",
      "execution_count": 15,
      "metadata": {
        "id": "bGCUI_xsImnH"
      },
      "outputs": [],
      "source": [
        "#Build the model\n",
        "model_1 = cnn_model_1()"
      ]
    },
    {
      "cell_type": "code",
      "execution_count": 16,
      "metadata": {
        "id": "ckJsLdmdQadZ",
        "colab": {
          "base_uri": "https://localhost:8080/"
        },
        "outputId": "0ab492a8-bfc7-4cbb-bf4c-b3e8b7a14213"
      },
      "outputs": [
        {
          "output_type": "stream",
          "name": "stdout",
          "text": [
            "Model: \"sequential\"\n",
            "_________________________________________________________________\n",
            " Layer (type)                Output Shape              Param #   \n",
            "=================================================================\n",
            " conv2d (Conv2D)             (None, 32, 32, 16)        160       \n",
            "                                                                 \n",
            " leaky_re_lu (LeakyReLU)     (None, 32, 32, 16)        0         \n",
            "                                                                 \n",
            " conv2d_1 (Conv2D)           (None, 32, 32, 32)        4640      \n",
            "                                                                 \n",
            " leaky_re_lu_1 (LeakyReLU)   (None, 32, 32, 32)        0         \n",
            "                                                                 \n",
            " max_pooling2d (MaxPooling2D  (None, 16, 16, 32)       0         \n",
            " )                                                               \n",
            "                                                                 \n",
            " flatten (Flatten)           (None, 8192)              0         \n",
            "                                                                 \n",
            " dense (Dense)               (None, 32)                262176    \n",
            "                                                                 \n",
            " leaky_re_lu_2 (LeakyReLU)   (None, 32)                0         \n",
            "                                                                 \n",
            " dense_1 (Dense)             (None, 10)                330       \n",
            "                                                                 \n",
            "=================================================================\n",
            "Total params: 267,306\n",
            "Trainable params: 267,306\n",
            "Non-trainable params: 0\n",
            "_________________________________________________________________\n"
          ]
        }
      ],
      "source": [
        "#Print the model summary\n",
        "model_1.summary()"
      ]
    },
    {
      "cell_type": "code",
      "execution_count": 17,
      "metadata": {
        "id": "3Fy3Dif_zcCk",
        "colab": {
          "base_uri": "https://localhost:8080/"
        },
        "outputId": "0d359441-7615-4fbb-f21a-6d0afee6f224"
      },
      "outputs": [
        {
          "output_type": "stream",
          "name": "stdout",
          "text": [
            "Epoch 1/20\n",
            "1050/1050 [==============================] - 14s 4ms/step - loss: 1.1788 - accuracy: 0.6085 - val_loss: 0.6341 - val_accuracy: 0.8170\n",
            "Epoch 2/20\n",
            "1050/1050 [==============================] - 4s 4ms/step - loss: 0.5336 - accuracy: 0.8458 - val_loss: 0.5132 - val_accuracy: 0.8543\n",
            "Epoch 3/20\n",
            "1050/1050 [==============================] - 4s 4ms/step - loss: 0.4419 - accuracy: 0.8692 - val_loss: 0.4962 - val_accuracy: 0.8579\n",
            "Epoch 4/20\n",
            "1050/1050 [==============================] - 4s 4ms/step - loss: 0.3839 - accuracy: 0.8876 - val_loss: 0.4521 - val_accuracy: 0.8725\n",
            "Epoch 5/20\n",
            "1050/1050 [==============================] - 4s 4ms/step - loss: 0.3392 - accuracy: 0.8975 - val_loss: 0.4554 - val_accuracy: 0.8717\n",
            "Epoch 6/20\n",
            "1050/1050 [==============================] - 4s 4ms/step - loss: 0.2993 - accuracy: 0.9095 - val_loss: 0.4497 - val_accuracy: 0.8762\n",
            "Epoch 7/20\n",
            "1050/1050 [==============================] - 4s 4ms/step - loss: 0.2687 - accuracy: 0.9189 - val_loss: 0.4460 - val_accuracy: 0.8761\n",
            "Epoch 8/20\n",
            "1050/1050 [==============================] - 4s 4ms/step - loss: 0.2388 - accuracy: 0.9271 - val_loss: 0.4952 - val_accuracy: 0.8670\n",
            "Epoch 9/20\n",
            "1050/1050 [==============================] - 4s 4ms/step - loss: 0.2169 - accuracy: 0.9334 - val_loss: 0.5011 - val_accuracy: 0.8736\n",
            "Epoch 10/20\n",
            "1050/1050 [==============================] - 5s 5ms/step - loss: 0.1922 - accuracy: 0.9405 - val_loss: 0.5021 - val_accuracy: 0.8764\n",
            "Epoch 11/20\n",
            "1050/1050 [==============================] - 4s 4ms/step - loss: 0.1735 - accuracy: 0.9454 - val_loss: 0.5755 - val_accuracy: 0.8658\n",
            "Epoch 12/20\n",
            "1050/1050 [==============================] - 4s 4ms/step - loss: 0.1579 - accuracy: 0.9499 - val_loss: 0.5856 - val_accuracy: 0.8676\n",
            "Epoch 13/20\n",
            "1050/1050 [==============================] - 4s 4ms/step - loss: 0.1392 - accuracy: 0.9571 - val_loss: 0.5910 - val_accuracy: 0.8693\n",
            "Epoch 14/20\n",
            "1050/1050 [==============================] - 5s 4ms/step - loss: 0.1280 - accuracy: 0.9594 - val_loss: 0.6451 - val_accuracy: 0.8668\n",
            "Epoch 15/20\n",
            "1050/1050 [==============================] - 4s 4ms/step - loss: 0.1133 - accuracy: 0.9641 - val_loss: 0.6492 - val_accuracy: 0.8720\n",
            "Epoch 16/20\n",
            "1050/1050 [==============================] - 4s 4ms/step - loss: 0.1036 - accuracy: 0.9661 - val_loss: 0.6642 - val_accuracy: 0.8692\n",
            "Epoch 17/20\n",
            "1050/1050 [==============================] - 4s 4ms/step - loss: 0.0896 - accuracy: 0.9716 - val_loss: 0.7278 - val_accuracy: 0.8638\n",
            "Epoch 18/20\n",
            "1050/1050 [==============================] - 4s 4ms/step - loss: 0.0895 - accuracy: 0.9704 - val_loss: 0.7426 - val_accuracy: 0.8701\n",
            "Epoch 19/20\n",
            "1050/1050 [==============================] - 4s 4ms/step - loss: 0.0821 - accuracy: 0.9725 - val_loss: 0.7791 - val_accuracy: 0.8667\n",
            "Epoch 20/20\n",
            "1050/1050 [==============================] - 4s 4ms/step - loss: 0.0684 - accuracy: 0.9776 - val_loss: 0.8476 - val_accuracy: 0.8632\n"
          ]
        }
      ],
      "source": [
        "#Fit the model on the train data with a validation split of 0.2, batch size = 32, verbose = 1, and 20 epochs. \n",
        "#Store the model building history to use later for visualization.\n",
        "\n",
        "history_model_1 = model_1.fit(X_train, y_train, validation_split=0.2,batch_size=32,verbose=1,epochs=20)\n"
      ]
    },
    {
      "cell_type": "markdown",
      "metadata": {
        "id": "tKOckG-KPyLg"
      },
      "source": [
        "### **Plotting the validation and training accuracies**"
      ]
    },
    {
      "cell_type": "markdown",
      "metadata": {
        "id": "sVyQ9Gpge2TI"
      },
      "source": [
        "#### **Question 4: Write your observations on the below plot (2 Marks)**"
      ]
    },
    {
      "cell_type": "code",
      "execution_count": 21,
      "metadata": {
        "colab": {
          "base_uri": "https://localhost:8080/",
          "height": 497
        },
        "id": "lt77zgGMP4yw",
        "outputId": "e8d022f4-e63d-4041-86c5-68ed331195e4"
      },
      "outputs": [
        {
          "output_type": "display_data",
          "data": {
            "image/png": "[encoded data removed]",
            "text/plain": [
              "<Figure size 576x576 with 1 Axes>"
            ]
          },
          "metadata": {
            "needs_background": "light"
          }
        }
      ],
      "source": [
        "# plotting the accuracies\n",
        "\n",
        "dict_hist = history_model_1.history\n",
        "list_ep = [i for i in range(1,21)]\n",
        "\n",
        "plt.figure(figsize = (8,8))\n",
        "plt.plot(list_ep,dict_hist['accuracy'],ls = '--', label = 'accuracy')\n",
        "plt.plot(list_ep,dict_hist['val_accuracy'],ls = '--', label = 'val_accuracy')\n",
        "plt.ylabel('Accuracy')\n",
        "plt.xlabel('Epochs')\n",
        "plt.legend()\n",
        "plt.show()"
      ]
    },
    {
      "cell_type": "markdown",
      "metadata": {
        "id": "pGBbQpLONX7k"
      },
      "source": [
        "**Observations:__________**\n",
        "* The validation accuracy is not too close to the training accuracy - the training accuracy continues to increase through the epochs over 95% but the validation accuracy plateus around .85% fluctuating around\n",
        "* The model does not generalize well and may be overfitting,  it has a great accuracy for the training set but doesn't perform well for validation set\n"
      ]
    },
    {
      "cell_type": "markdown",
      "metadata": {
        "id": "z0qgLMBZm5-K"
      },
      "source": [
        "Let's build another model and see if we can get a better model with generalized performance.\n",
        "\n",
        "First, we need to clear the previous model's history from the keras backend. Also, let's fix the seed again after clearing the backend."
      ]
    },
    {
      "cell_type": "code",
      "execution_count": 35,
      "metadata": {
        "id": "y98BpLxsok_H"
      },
      "outputs": [],
      "source": [
        "#Clearing backend\n",
        "from tensorflow.keras import backend\n",
        "backend.clear_session()"
      ]
    },
    {
      "cell_type": "code",
      "execution_count": 36,
      "metadata": {
        "id": "HbKi93HTolGW"
      },
      "outputs": [],
      "source": [
        "#Fixing the seed for random number generators\n",
        "np.random.seed(42)\n",
        "import random\n",
        "random.seed(42)\n",
        "tf.random.set_seed(42)"
      ]
    },
    {
      "cell_type": "markdown",
      "metadata": {
        "id": "lT6o3TIKuCtk"
      },
      "source": [
        "### **Second Model Architecture**\n",
        "- Write a function that returns a sequential model with the following architecture\n",
        " - First Convolutional layer with **16 filters and kernel size of 3x3**. Use the **'same' padding** and provide an **apt input shape**\n",
        " - Add a **LeakyRelu layer** with the **slope equal to 0.1**\n",
        " - Second Convolutional layer with **32 filters and kernel size of 3x3 with 'same' padding**\n",
        " - Add **LeakyRelu** with the **slope equal to 0.1**\n",
        " - Add a **max-pooling layer** with a **pool size of 2x2**\n",
        " - Add a **BatchNormalization layer**\n",
        " - Third Convolutional layer with **32 filters and kernel size of 3x3 with 'same' padding**\n",
        " - Add a **LeakyRelu layer with slope equal to 0.1**\n",
        " - Fourth Convolutional layer **64 filters and kernel size of 3x3 with 'same' padding** \n",
        " - Add a **LeakyRelu layer with slope equal to 0.1**\n",
        " - Add a **max-pooling layer** with a **pool size of 2x2**\n",
        " - Add a **BatchNormalization layer**\n",
        " - **Flatten** the output from the previous layer\n",
        " - Add a **dense layer with 32 nodes**\n",
        " - Add a **LeakyRelu layer with slope equal to 0.1**\n",
        " - Add a **dropout layer with rate equal to 0.5**\n",
        " - Add the final **output layer with nodes equal to the number of classes** and **softmax activation**\n",
        " - Compile the model with the **categorical_crossentropy loss, adam optimizers (learning_rate = 0.001), and accuracy metric**. Do not fit the model here, just return the compiled model\n",
        "- Call the function and store the model in a new variable\n",
        "- Print the summary of the model.\n",
        "- Fit the model on the train data with a **validation split of 0.2, batch size = 128, verbose = 1, and 30 epochs**. Store the model building history to use later for visualization."
      ]
    },
    {
      "cell_type": "markdown",
      "metadata": {
        "id": "Sr-bwBT2e2TJ"
      },
      "source": [
        "#### **Question 5: Build and train the second CNN model as per the above mentioned architecture (10 Marks)**"
      ]
    },
    {
      "cell_type": "code",
      "execution_count": 37,
      "metadata": {
        "id": "EEPYLFIPnSDP"
      },
      "outputs": [],
      "source": [
        "#Define the function\n",
        "def cnn_model_2():\n",
        "    model = Sequential() \n",
        "    \n",
        "    #First Convolutional layer with 16 filters and kernel size of 3x3. \n",
        "    #Use the 'same' padding and provide an apt input shape\n",
        "    model.add(Conv2D(filters=16, kernel_size=(3,3), padding='same', input_shape=(32,32,1)))\n",
        "\n",
        "    #Add a LeakyRelu layer with the slope equal to 0.1\n",
        "    model.add(LeakyReLU(alpha=0.1))\n",
        "\n",
        "    #Second Convolutional layer with 32 filters and kernel size of 3x3 with 'same' padding\n",
        "    model.add(Conv2D(filters=32, kernel_size=(3,3), padding='same'))\n",
        "\n",
        "    #Add LeakyRelu with the slope equal to 0.1\n",
        "    model.add(LeakyReLU(alpha=0.1))\n",
        "\n",
        "    #Add a max-pooling layer with a pool size of 2x2\n",
        "    model.add(MaxPool2D(pool_size=(2,2)))\n",
        "\n",
        "    #Add a BatchNormalization layer\n",
        "    model.add(BatchNormalization())\n",
        "\n",
        "    #Third Convolutional layer with 32 filters and kernel size of 3x3 with 'same' padding\n",
        "    model.add(Conv2D(filters=32, kernel_size=(3,3), padding='same'))\n",
        "    \n",
        "    #Add a LeakyRelu layer with slope equal to 0.1\n",
        "    model.add(LeakyReLU(alpha=0.1))\n",
        "\n",
        "    #Fourth Convolutional layer 64 filters and kernel size of 3x3 with 'same' padding\n",
        "    model.add(Conv2D(filters=64, kernel_size=(3,3), padding='same'))\n",
        "    \n",
        "    #Add a LeakyRelu layer with slope equal to 0.1\n",
        "    model.add(LeakyReLU(alpha=0.1))\n",
        "\n",
        "    #Add a max-pooling layer with a pool size of 2x2\n",
        "    model.add(MaxPool2D(pool_size=(2,2)))\n",
        "\n",
        "    #Add a BatchNormalization layer\n",
        "    model.add(BatchNormalization())\n",
        "\n",
        "    #Flatten the output from the previous layer\n",
        "    model.add(Flatten())\n",
        "\n",
        "    #Add a dense layer with 32 nodes\n",
        "    model.add(Dense(32))\n",
        "    \n",
        "    #Add a LeakyRelu layer with slope equal to 0.1\n",
        "    model.add(LeakyReLU(alpha=0.1))\n",
        "\n",
        "    #Add a dropout layer with rate equal to 0.5\n",
        "    model.add(Dropout(0.5))\n",
        "\n",
        "    #Add the final output layer with nodes equal to the number of classes and softmax activation\n",
        "    model.add(Dense(10, activation='softmax'))\n",
        "    \n",
        "    #declare adam optimizer with learning rate of 0.001 \n",
        "    adam = optimizers.Adam(learning_rate=0.001)\n",
        "\n",
        "    ##Compile the model with the categorical_crossentropy loss, \n",
        "    model.compile(loss = 'categorical_crossentropy', optimizer = adam, metrics = ['accuracy'])\n",
        "    \n",
        "    return model\n",
        "\n",
        "\n",
        "\n"
      ]
    },
    {
      "cell_type": "code",
      "execution_count": 38,
      "metadata": {
        "id": "AKjDY4plnSFl"
      },
      "outputs": [],
      "source": [
        "# Build the model\n",
        "model_2 = cnn_model_2()"
      ]
    },
    {
      "cell_type": "code",
      "execution_count": 39,
      "metadata": {
        "id": "gz_6SVrU2swZ",
        "colab": {
          "base_uri": "https://localhost:8080/"
        },
        "outputId": "91954701-1c95-4ec6-97cb-6fff36d3b2ae"
      },
      "outputs": [
        {
          "output_type": "stream",
          "name": "stdout",
          "text": [
            "Model: \"sequential\"\n",
            "_________________________________________________________________\n",
            " Layer (type)                Output Shape              Param #   \n",
            "=================================================================\n",
            " conv2d (Conv2D)             (None, 32, 32, 16)        160       \n",
            "                                                                 \n",
            " leaky_re_lu (LeakyReLU)     (None, 32, 32, 16)        0         \n",
            "                                                                 \n",
            " conv2d_1 (Conv2D)           (None, 32, 32, 32)        4640      \n",
            "                                                                 \n",
            " leaky_re_lu_1 (LeakyReLU)   (None, 32, 32, 32)        0         \n",
            "                                                                 \n",
            " max_pooling2d (MaxPooling2D  (None, 16, 16, 32)       0         \n",
            " )                                                               \n",
            "                                                                 \n",
            " batch_normalization (BatchN  (None, 16, 16, 32)       128       \n",
            " ormalization)                                                   \n",
            "                                                                 \n",
            " conv2d_2 (Conv2D)           (None, 16, 16, 32)        9248      \n",
            "                                                                 \n",
            " leaky_re_lu_2 (LeakyReLU)   (None, 16, 16, 32)        0         \n",
            "                                                                 \n",
            " conv2d_3 (Conv2D)           (None, 16, 16, 64)        18496     \n",
            "                                                                 \n",
            " leaky_re_lu_3 (LeakyReLU)   (None, 16, 16, 64)        0         \n",
            "                                                                 \n",
            " max_pooling2d_1 (MaxPooling  (None, 8, 8, 64)         0         \n",
            " 2D)                                                             \n",
            "                                                                 \n",
            " batch_normalization_1 (Batc  (None, 8, 8, 64)         256       \n",
            " hNormalization)                                                 \n",
            "                                                                 \n",
            " flatten (Flatten)           (None, 4096)              0         \n",
            "                                                                 \n",
            " dense (Dense)               (None, 32)                131104    \n",
            "                                                                 \n",
            " leaky_re_lu_4 (LeakyReLU)   (None, 32)                0         \n",
            "                                                                 \n",
            " dropout (Dropout)           (None, 32)                0         \n",
            "                                                                 \n",
            " dense_1 (Dense)             (None, 10)                330       \n",
            "                                                                 \n",
            "=================================================================\n",
            "Total params: 164,362\n",
            "Trainable params: 164,170\n",
            "Non-trainable params: 192\n",
            "_________________________________________________________________\n"
          ]
        }
      ],
      "source": [
        "#Print the summary\n",
        "model_2.summary()"
      ]
    },
    {
      "cell_type": "code",
      "execution_count": 40,
      "metadata": {
        "id": "IQ0Sc4R-y-uu",
        "colab": {
          "base_uri": "https://localhost:8080/"
        },
        "outputId": "81cbd83a-1e32-42bb-929d-6549858c087f"
      },
      "outputs": [
        {
          "output_type": "stream",
          "name": "stdout",
          "text": [
            "Epoch 1/30\n",
            "263/263 [==============================] - 3s 10ms/step - loss: 1.4803 - accuracy: 0.4974 - val_loss: 2.9340 - val_accuracy: 0.1156\n",
            "Epoch 2/30\n",
            "263/263 [==============================] - 2s 9ms/step - loss: 0.6946 - accuracy: 0.7847 - val_loss: 0.6170 - val_accuracy: 0.8160\n",
            "Epoch 3/30\n",
            "263/263 [==============================] - 2s 9ms/step - loss: 0.5570 - accuracy: 0.8294 - val_loss: 0.4942 - val_accuracy: 0.8602\n",
            "Epoch 4/30\n",
            "263/263 [==============================] - 2s 9ms/step - loss: 0.4965 - accuracy: 0.8495 - val_loss: 0.4783 - val_accuracy: 0.8552\n",
            "Epoch 5/30\n",
            "263/263 [==============================] - 2s 9ms/step - loss: 0.4498 - accuracy: 0.8636 - val_loss: 0.3792 - val_accuracy: 0.8933\n",
            "Epoch 6/30\n",
            "263/263 [==============================] - 2s 9ms/step - loss: 0.4087 - accuracy: 0.8753 - val_loss: 0.4502 - val_accuracy: 0.8733\n",
            "Epoch 7/30\n",
            "263/263 [==============================] - 2s 9ms/step - loss: 0.3814 - accuracy: 0.8829 - val_loss: 0.3636 - val_accuracy: 0.8965\n",
            "Epoch 8/30\n",
            "263/263 [==============================] - 2s 9ms/step - loss: 0.3582 - accuracy: 0.8888 - val_loss: 0.5187 - val_accuracy: 0.8496\n",
            "Epoch 9/30\n",
            "263/263 [==============================] - 2s 9ms/step - loss: 0.3371 - accuracy: 0.8971 - val_loss: 0.3572 - val_accuracy: 0.8996\n",
            "Epoch 10/30\n",
            "263/263 [==============================] - 2s 9ms/step - loss: 0.3147 - accuracy: 0.9022 - val_loss: 0.3911 - val_accuracy: 0.8979\n",
            "Epoch 11/30\n",
            "263/263 [==============================] - 2s 9ms/step - loss: 0.2937 - accuracy: 0.9077 - val_loss: 0.4419 - val_accuracy: 0.8940\n",
            "Epoch 12/30\n",
            "263/263 [==============================] - 2s 9ms/step - loss: 0.2836 - accuracy: 0.9109 - val_loss: 0.4316 - val_accuracy: 0.8971\n",
            "Epoch 13/30\n",
            "263/263 [==============================] - 2s 9ms/step - loss: 0.2727 - accuracy: 0.9160 - val_loss: 0.3828 - val_accuracy: 0.9060\n",
            "Epoch 14/30\n",
            "263/263 [==============================] - 2s 9ms/step - loss: 0.2590 - accuracy: 0.9176 - val_loss: 0.3564 - val_accuracy: 0.9039\n",
            "Epoch 15/30\n",
            "263/263 [==============================] - 2s 9ms/step - loss: 0.2483 - accuracy: 0.9196 - val_loss: 0.4026 - val_accuracy: 0.9012\n",
            "Epoch 16/30\n",
            "263/263 [==============================] - 2s 9ms/step - loss: 0.2372 - accuracy: 0.9232 - val_loss: 0.3683 - val_accuracy: 0.9125\n",
            "Epoch 17/30\n",
            "263/263 [==============================] - 2s 9ms/step - loss: 0.2275 - accuracy: 0.9267 - val_loss: 0.4876 - val_accuracy: 0.8842\n",
            "Epoch 18/30\n",
            "263/263 [==============================] - 2s 9ms/step - loss: 0.2182 - accuracy: 0.9289 - val_loss: 0.3711 - val_accuracy: 0.9046\n",
            "Epoch 19/30\n",
            "263/263 [==============================] - 2s 9ms/step - loss: 0.2193 - accuracy: 0.9284 - val_loss: 0.4754 - val_accuracy: 0.8961\n",
            "Epoch 20/30\n",
            "263/263 [==============================] - 2s 9ms/step - loss: 0.2037 - accuracy: 0.9326 - val_loss: 0.3912 - val_accuracy: 0.9060\n",
            "Epoch 21/30\n",
            "263/263 [==============================] - 2s 9ms/step - loss: 0.1968 - accuracy: 0.9351 - val_loss: 0.4050 - val_accuracy: 0.9070\n",
            "Epoch 22/30\n",
            "263/263 [==============================] - 2s 9ms/step - loss: 0.1834 - accuracy: 0.9385 - val_loss: 0.4397 - val_accuracy: 0.9127\n",
            "Epoch 23/30\n",
            "263/263 [==============================] - 2s 9ms/step - loss: 0.1826 - accuracy: 0.9386 - val_loss: 0.5195 - val_accuracy: 0.8823\n",
            "Epoch 24/30\n",
            "263/263 [==============================] - 2s 9ms/step - loss: 0.1873 - accuracy: 0.9384 - val_loss: 0.4056 - val_accuracy: 0.9083\n",
            "Epoch 25/30\n",
            "263/263 [==============================] - 3s 10ms/step - loss: 0.1773 - accuracy: 0.9427 - val_loss: 0.4312 - val_accuracy: 0.9062\n",
            "Epoch 26/30\n",
            "263/263 [==============================] - 2s 9ms/step - loss: 0.1710 - accuracy: 0.9434 - val_loss: 0.4099 - val_accuracy: 0.9007\n",
            "Epoch 27/30\n",
            "263/263 [==============================] - 3s 10ms/step - loss: 0.1625 - accuracy: 0.9451 - val_loss: 0.4451 - val_accuracy: 0.9127\n",
            "Epoch 28/30\n",
            "263/263 [==============================] - 2s 9ms/step - loss: 0.1619 - accuracy: 0.9475 - val_loss: 0.4113 - val_accuracy: 0.9111\n",
            "Epoch 29/30\n",
            "263/263 [==============================] - 2s 9ms/step - loss: 0.1618 - accuracy: 0.9465 - val_loss: 0.4882 - val_accuracy: 0.8979\n",
            "Epoch 30/30\n",
            "263/263 [==============================] - 2s 9ms/step - loss: 0.1595 - accuracy: 0.9469 - val_loss: 0.4589 - val_accuracy: 0.9093\n"
          ]
        }
      ],
      "source": [
        "# Fit the model validation split of 0.2, batch size = 128, verbose = 1, and 30 epochs.\n",
        "history_model_2 = model_2.fit(X_train, y_train, validation_split=0.2,batch_size=128,verbose=1,epochs=30)"
      ]
    },
    {
      "cell_type": "markdown",
      "metadata": {
        "id": "0_f1EXmTe2TK"
      },
      "source": [
        "### **Plotting the validation and training accuracies**"
      ]
    },
    {
      "cell_type": "markdown",
      "metadata": {
        "id": "aC5UbsqXe2TK"
      },
      "source": [
        "#### **Question 6: Write your observations on the below plot (2 Marks)**"
      ]
    },
    {
      "cell_type": "code",
      "execution_count": 51,
      "metadata": {
        "colab": {
          "base_uri": "https://localhost:8080/",
          "height": 497
        },
        "id": "01ig6BrF1KVy",
        "outputId": "998a8f0a-43c0-4255-a01a-9ad45f323dd7"
      },
      "outputs": [
        {
          "output_type": "display_data",
          "data": {
            "image/png": "[encoded data removed]",
            "text/plain": [
              "<Figure size 576x576 with 1 Axes>"
            ]
          },
          "metadata": {
            "needs_background": "light"
          }
        }
      ],
      "source": [
        "# plotting the accuracies\n",
        "\n",
        "dict_hist = history_model_2.history\n",
        "list_ep = [i for i in range(1,31)]\n",
        "\n",
        "plt.figure(figsize = (8,8))\n",
        "plt.plot(list_ep,dict_hist['accuracy'],ls = '--', label = 'accuracy')\n",
        "plt.plot(list_ep,dict_hist['val_accuracy'],ls = '--', label = 'val_accuracy')\n",
        "plt.ylabel('Accuracy')\n",
        "plt.xlabel('Epochs')\n",
        "plt.legend()\n",
        "plt.show()"
      ]
    },
    {
      "cell_type": "markdown",
      "metadata": {
        "id": "VPW1LlD61RDn"
      },
      "source": [
        "\n",
        "\n",
        "```\n",
        "# This is formatted as code\n",
        "```\n",
        "\n",
        "**Observations:________**\n",
        "\n",
        "* In the model, with dropout, pooling, etc we were able to reduce the number of trainable parameters while still achieving higher accuracy\n",
        "* The validation accuracy is closer to the training accuracy than in the previous model, indicating that the model is giving a more generalized performance\n",
        "* Both the training and validation accuracy increases as epochs incease\n",
        "* There's a dip around epoch 8 - perhaps we could further tune some of the model params\n",
        "* The validation accuracy is much improved compared to the previous model, reaching over .85\n"
      ]
    },
    {
      "cell_type": "markdown",
      "metadata": {
        "id": "8kuXx9Bvu00f"
      },
      "source": [
        "## **Predictions on the test data**\n",
        "\n",
        "- Make predictions on the test set using the second model\n",
        "- Print the obtained results using the classification report and the confusion matrix\n",
        "- Final observations from the obtained results"
      ]
    },
    {
      "cell_type": "markdown",
      "metadata": {
        "id": "yfZwC9OUe2TL"
      },
      "source": [
        "#### **Question 7: Make predictions on the test data using the second model (1 Mark)**"
      ]
    },
    {
      "cell_type": "code",
      "execution_count": 58,
      "metadata": {
        "id": "xbWMEtTj5Ad0"
      },
      "outputs": [],
      "source": [
        "#Make prediction on the test data using model_2 \n",
        "test_pred = model_2.predict(X_test)\n",
        "\n",
        "test_pred = np.argmax(test_pred, axis=-1)"
      ]
    },
    {
      "cell_type": "markdown",
      "metadata": {
        "id": "i3li8Ib08yts"
      },
      "source": [
        "**Note:** Earlier, we noticed that each entry of the test data is a one-hot encoded vector but to print the classification report and confusion matrix, we must convert each entry of y_test to a single label."
      ]
    },
    {
      "cell_type": "code",
      "execution_count": 59,
      "metadata": {
        "id": "NByu7uAQ8x9P"
      },
      "outputs": [],
      "source": [
        "#Converting each entry to single label from one-hot encoded vector\n",
        "y_test = np.argmax(y_test, axis=-1)"
      ]
    },
    {
      "cell_type": "markdown",
      "metadata": {
        "id": "yHDUEma0e2TM"
      },
      "source": [
        "#### **Question 8: Write your final observations on the performance of the model on the test data (2 Marks)**"
      ]
    },
    {
      "cell_type": "code",
      "execution_count": 68,
      "metadata": {
        "colab": {
          "base_uri": "https://localhost:8080/",
          "height": 637
        },
        "id": "xRddeJ-3EHT1",
        "outputId": "f716e2ee-cdad-43b8-db2f-cd702c8ce662"
      },
      "outputs": [
        {
          "output_type": "stream",
          "name": "stdout",
          "text": [
            "              precision    recall  f1-score   support\n",
            "\n",
            "           0       0.93      0.93      0.93      1814\n",
            "           1       0.90      0.91      0.90      1828\n",
            "           2       0.93      0.92      0.93      1803\n",
            "           3       0.89      0.88      0.88      1719\n",
            "           4       0.92      0.93      0.93      1812\n",
            "           5       0.90      0.92      0.91      1768\n",
            "           6       0.87      0.91      0.89      1832\n",
            "           7       0.94      0.92      0.93      1808\n",
            "           8       0.92      0.87      0.90      1812\n",
            "           9       0.89      0.91      0.90      1804\n",
            "\n",
            "    accuracy                           0.91     18000\n",
            "   macro avg       0.91      0.91      0.91     18000\n",
            "weighted avg       0.91      0.91      0.91     18000\n",
            "\n"
          ]
        },
        {
          "output_type": "display_data",
          "data": {
            "image/png": "[encoded data removed]",
            "text/plain": [
              "<Figure size 576x360 with 2 Axes>"
            ]
          },
          "metadata": {
            "needs_background": "light"
          }
        }
      ],
      "source": [
        "#importing required functions\n",
        "from sklearn.metrics import classification_report\n",
        "from sklearn.metrics import confusion_matrix\n",
        "\n",
        "#Printing the classification report\n",
        "print(classification_report(y_test, test_pred))\n",
        "\n",
        "#Plotting the heatmap using confusion matrix\n",
        "cm = confusion_matrix(y_test, test_pred)\n",
        "plt.figure(figsize=(8,5))\n",
        "sns.heatmap(cm, annot=True,  fmt='.0f')\n",
        "plt.ylabel('Actual')\n",
        "plt.xlabel('Predicted')\n",
        "plt.show()"
      ]
    },
    {
      "cell_type": "markdown",
      "metadata": {
        "id": "DjErl4GA2u9s"
      },
      "source": [
        "#### **Observations:_________**\n",
        "* \n",
        "* Overall accuracy of .91 seems good (and much improved from the NN without convolution!)\n",
        "* This model does a much better job on digit 8 compared to NN with no convolution\n",
        "* Digit 3 still appears the most difficult to recognize, could perhaps do further training for that"
      ]
    }
  ],
  "metadata": {
    "accelerator": "GPU",
    "colab": {
      "collapsed_sections": [],
      "name": "AdrianaVazquez_CNN.ipynb",
      "provenance": []
    },
    "kernelspec": {
      "display_name": "Python 3 (ipykernel)",
      "language": "python",
      "name": "python3"
    },
    "language_info": {
      "codemirror_mode": {
        "name": "ipython",
        "version": 3
      },
      "file_extension": ".py",
      "mimetype": "text/x-python",
      "name": "python",
      "nbconvert_exporter": "python",
      "pygments_lexer": "ipython3",
      "version": "3.9.7"
    }
  },
  "nbformat": 4,
  "nbformat_minor": 0
}