{
 "cells": [
  {
   "cell_type": "code",
   "execution_count": 1,
   "id": "d420b417",
   "metadata": {},
   "outputs": [],
   "source": [
    "# import the important packages\n",
    "import pandas as pd  # library used for data manipulation and analysis\n",
    "import numpy as np  # library used for working with arrays\n",
    "import matplotlib.pyplot as plt  # library for plots and visualizations\n",
    "import seaborn as sns  # library for visualizations\n",
    "\n",
    "%matplotlib inline\n",
    "\n",
    "import scipy.stats as stats  # this library contains a large number of probability distributions as well as a growing library of statistical functions"
   ]
  },
  {
   "cell_type": "code",
   "execution_count": 4,
   "id": "ad2a6b72",
   "metadata": {},
   "outputs": [
    {
     "data": {
      "text/plain": [
       "0.5903777927789047"
      ]
     },
     "execution_count": 4,
     "metadata": {},
     "output_type": "execute_result"
    }
   ],
   "source": [
    "#ormally distributed with a mean of 502 and a standard deviation of 115. \n",
    "#Based on this information, what percentage of students would be expected to score between 400 and 590?\n",
    "mu=502\n",
    "sd = 115\n",
    "\n",
    "from scipy.stats import norm\n",
    "\n",
    "norm.cdf(590,mu,sd)-norm.cdf(400,mu,sd)"
   ]
  },
  {
   "cell_type": "code",
   "execution_count": 5,
   "id": "c0b2f231",
   "metadata": {},
   "outputs": [
    {
     "data": {
      "text/plain": [
       "array([42.29, 43.71])"
      ]
     },
     "execution_count": 5,
     "metadata": {},
     "output_type": "execute_result"
    }
   ],
   "source": [
    "#Scientists want to know the incubation period of coronavirus. \n",
    "#They have collected the blood samples of 100 people and found that \n",
    "#the mean incubation period is 43 hours with a standard deviation of 3.6 hours.\n",
    "#Which of the following code is correct to calculate the 95% confidence interval of the mean incubation period?\n",
    "\n",
    "\n",
    "\n",
    "# import the required function\n",
    "from scipy.stats import norm\n",
    "\n",
    "# set the values of sample mean and sigma\n",
    "x_bar, sigma = 43, 3.6\n",
    "\n",
    "# set the value of sample size\n",
    "n = 100\n",
    "\n",
    "# construct the confidence interval\n",
    "np.round(norm.interval(0.95, loc=x_bar, scale=sigma / np.sqrt(n)), 2)"
   ]
  },
  {
   "cell_type": "code",
   "execution_count": 12,
   "id": "41190939",
   "metadata": {},
   "outputs": [
    {
     "data": {
      "text/plain": [
       "(42.285681897456875, 43.714318102543125)"
      ]
     },
     "execution_count": 12,
     "metadata": {},
     "output_type": "execute_result"
    }
   ],
   "source": [
    "from scipy import stats\n",
    "import numpy as np\n",
    "confidence_coef = .95\n",
    "stats.t.interval(confidence_coef, df = 100-1, loc = 43 , scale = 3.6/np.sqrt(100))"
   ]
  },
  {
   "cell_type": "code",
   "execution_count": 6,
   "id": "7d1bebc6",
   "metadata": {},
   "outputs": [
    {
     "data": {
      "text/plain": [
       "0.033806170189140665"
      ]
     },
     "execution_count": 6,
     "metadata": {},
     "output_type": "execute_result"
    }
   ],
   "source": [
    ".2/np.sqrt(35)"
   ]
  },
  {
   "cell_type": "code",
   "execution_count": 7,
   "id": "bfa0bb39",
   "metadata": {},
   "outputs": [],
   "source": [
    "import scipy.stats as st\n"
   ]
  },
  {
   "cell_type": "code",
   "execution_count": 8,
   "id": "9e381a64",
   "metadata": {},
   "outputs": [],
   "source": [
    "?st.uniform.cdf"
   ]
  },
  {
   "cell_type": "code",
   "execution_count": 9,
   "id": "7853122e",
   "metadata": {},
   "outputs": [
    {
     "data": {
      "text/plain": [
       "(42.285681897456875, 43.714318102543125)"
      ]
     },
     "execution_count": 9,
     "metadata": {},
     "output_type": "execute_result"
    }
   ],
   "source": [
    "from scipy import stats\n",
    "import numpy as np\n",
    "confidence_coef = .95\n",
    "stats.t.interval(confidence_coef, df = 100-1, loc = 43 , scale = 3.6/np.sqrt(100))"
   ]
  },
  {
   "cell_type": "code",
   "execution_count": 10,
   "id": "f7fe34ca",
   "metadata": {},
   "outputs": [],
   "source": [
    "?stats.t.interval"
   ]
  },
  {
   "cell_type": "code",
   "execution_count": 11,
   "id": "20aff252",
   "metadata": {},
   "outputs": [
    {
     "data": {
      "text/plain": [
       "0.033806170189140665"
      ]
     },
     "execution_count": 11,
     "metadata": {},
     "output_type": "execute_result"
    }
   ],
   "source": [
    "#At Intel, the sizes of processor chips have a mean of 1 cm with a standard deviation of 0.2 cm.\n",
    "#Multiple random samples, each consisting of 35 processor chips, are taken. \n",
    "#The sample mean and standard deviation for each sample are recorded to form a sampling distribution.\n",
    "#What is the mean and standard deviation of this sampling distribution?\n",
    "\n",
    "# standard deviation of the population divided by the square root of the sample size:\n",
    "\n",
    "0.2/(35**.5)"
   ]
  },
  {
   "cell_type": "code",
   "execution_count": null,
   "id": "f99501dc",
   "metadata": {},
   "outputs": [],
   "source": []
  }
 ],
 "metadata": {
  "kernelspec": {
   "display_name": "Python 3 (ipykernel)",
   "language": "python",
   "name": "python3"
  },
  "language_info": {
   "codemirror_mode": {
    "name": "ipython",
    "version": 3
   },
   "file_extension": ".py",
   "mimetype": "text/x-python",
   "name": "python",
   "nbconvert_exporter": "python",
   "pygments_lexer": "ipython3",
   "version": "3.9.7"
  }
 },
 "nbformat": 4,
 "nbformat_minor": 5
}
