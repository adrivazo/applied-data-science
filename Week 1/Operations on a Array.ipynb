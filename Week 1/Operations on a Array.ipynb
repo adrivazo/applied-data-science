{
 "cells": [
  {
   "cell_type": "markdown",
   "metadata": {
    "colab_type": "text",
    "id": "fuVrsAUzWhBn"
   },
   "source": [
    "#### 1. Write a program to find BMI of the patients whose height and weight is provided in the list given below"
   ]
  },
  {
   "cell_type": "markdown",
   "metadata": {
    "colab_type": "text",
    "id": "ZVMmbrQGWqwC"
   },
   "source": [
    "Use the lists given below:\n",
    "\n",
    "list of weights (in kg) weights = [57, 69, 54, 65 ,71, 62, 56]\n",
    "\n",
    "list of heights (in m)\n",
    "heights = [1.59, 1.75, 1.66, 1.74, 1.64, 1.72, 1.53]"
   ]
  },
  {
   "cell_type": "code",
   "execution_count": null,
   "metadata": {},
   "outputs": [],
   "source": [
    "weights = [57, 69, 54, 65 ,71, 62, 56]\n",
    "heights = [1.59, 1.75, 1.66, 1.74, 1.64, 1.72, 1.53]\n",
    "\n",
    "# convert the list to array\n",
    "\n",
    "\n",
    "# formula to calculate BMI\n"
   ]
  },
  {
   "cell_type": "code",
   "execution_count": 1,
   "metadata": {
    "colab": {},
    "colab_type": "code",
    "id": "qdn4-UzBZR-T"
   },
   "outputs": [
    {
     "ename": "NameError",
     "evalue": "name 'weights' is not defined",
     "output_type": "error",
     "traceback": [
      "\u001b[0;31m---------------------------------------------------------------------------\u001b[0m",
      "\u001b[0;31mNameError\u001b[0m                                 Traceback (most recent call last)",
      "\u001b[0;32m/var/folders/61/lkgw90991bq6gh25lnrhgr980000gn/T/ipykernel_68886/1630965820.py\u001b[0m in \u001b[0;36m<module>\u001b[0;34m\u001b[0m\n\u001b[1;32m      3\u001b[0m \u001b[0;34m\u001b[0m\u001b[0m\n\u001b[1;32m      4\u001b[0m \u001b[0;34m\u001b[0m\u001b[0m\n\u001b[0;32m----> 5\u001b[0;31m \u001b[0mweights_array\u001b[0m \u001b[0;34m=\u001b[0m \u001b[0mnp\u001b[0m\u001b[0;34m.\u001b[0m\u001b[0marray\u001b[0m\u001b[0;34m(\u001b[0m\u001b[0mweights\u001b[0m\u001b[0;34m)\u001b[0m\u001b[0;34m\u001b[0m\u001b[0;34m\u001b[0m\u001b[0m\n\u001b[0m\u001b[1;32m      6\u001b[0m \u001b[0mheights_array\u001b[0m \u001b[0;34m=\u001b[0m \u001b[0mnp\u001b[0m\u001b[0;34m.\u001b[0m\u001b[0marray\u001b[0m\u001b[0;34m(\u001b[0m\u001b[0mheights\u001b[0m\u001b[0;34m)\u001b[0m\u001b[0;34m\u001b[0m\u001b[0;34m\u001b[0m\u001b[0m\n\u001b[1;32m      7\u001b[0m \u001b[0msq_heights\u001b[0m\u001b[0;34m=\u001b[0m\u001b[0mheights_array\u001b[0m\u001b[0;34m**\u001b[0m\u001b[0;36m2\u001b[0m\u001b[0;34m\u001b[0m\u001b[0;34m\u001b[0m\u001b[0m\n",
      "\u001b[0;31mNameError\u001b[0m: name 'weights' is not defined"
     ]
    }
   ],
   "source": [
    "##BMI formula:kg/m**2\n",
    "import numpy as np\n",
    "\n",
    "\n",
    "weights_array = np.array(weights)\n",
    "heights_array = np.array(heights)\n",
    "sq_heights=heights_array**2\n",
    "bmi_array=weights/sq_heights\n",
    "\n",
    "print(bmi_array)"
   ]
  },
  {
   "cell_type": "code",
   "execution_count": 2,
   "metadata": {},
   "outputs": [
    {
     "name": "stdout",
     "output_type": "stream",
     "text": [
      "[22.54657648 22.53061224 19.59645812 21.46915048 26.39797739 20.9572742\n",
      " 23.922423  ]\n"
     ]
    }
   ],
   "source": [
    "import numpy as np\n",
    "\n",
    "\n",
    "weights = [57, 69, 54, 65 ,71, 62, 56]\n",
    "heights = [1.59, 1.75, 1.66, 1.74, 1.64, 1.72, 1.53]\n",
    "\n",
    "# convert the list to array\n",
    "weights_array = np.array(weights)\n",
    "heights_array = np.array(heights)\n",
    "\n",
    "# formula to calculate BMI\n",
    "##BMI formula:kg/m**2\n",
    "sq_heights=heights_array**2\n",
    "bmi_array=weights/sq_heights\n",
    "\n",
    "print(bmi_array)"
   ]
  },
  {
   "cell_type": "code",
   "execution_count": null,
   "metadata": {},
   "outputs": [],
   "source": []
  }
 ],
 "metadata": {
  "colab": {
   "collapsed_sections": [],
   "name": "Numpy.ipynb",
   "provenance": []
  },
  "kernelspec": {
   "display_name": "Python 3 (ipykernel)",
   "language": "python",
   "name": "python3"
  },
  "language_info": {
   "codemirror_mode": {
    "name": "ipython",
    "version": 3
   },
   "file_extension": ".py",
   "mimetype": "text/x-python",
   "name": "python",
   "nbconvert_exporter": "python",
   "pygments_lexer": "ipython3",
   "version": "3.9.7"
  }
 },
 "nbformat": 4,
 "nbformat_minor": 1
}
